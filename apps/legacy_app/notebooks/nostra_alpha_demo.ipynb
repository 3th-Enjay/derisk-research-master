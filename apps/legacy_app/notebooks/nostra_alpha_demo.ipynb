{
 "cells": [
  {
   "cell_type": "markdown",
   "id": "79e6dcb2",
   "metadata": {},
   "source": [
    "# Nostra Alpha\n",
    "\n",
    "This notebook processes Nostra Alpha events to get to the current state of all their loans. The data is then used to \n",
    "produce the main chart - liquidable debt vs. available supply."
   ]
  },
  {
   "cell_type": "code",
   "execution_count": null,
   "id": "e6a89c81",
   "metadata": {},
   "outputs": [],
   "source": [
    "import logging\n",
    "import sys\n",
    "\n",
    "sys.path.append('..')\n",
    "\n",
    "import src.main_chart\n",
    "import src.nostra_alpha\n",
    "import src.swap_amm\n",
    "\n",
    "\n",
    "logging.basicConfig(level=logging.INFO)"
   ]
  },
  {
   "cell_type": "code",
   "execution_count": null,
   "id": "1c48224b",
   "metadata": {},
   "outputs": [],
   "source": [
    "COLLATERAL_TOKEN = 'ETH'\n",
    "DEBT_TOKEN = 'USDC'"
   ]
  },
  {
   "cell_type": "markdown",
   "id": "a0023a62",
   "metadata": {},
   "source": [
    "## Prepare events"
   ]
  },
  {
   "cell_type": "code",
   "execution_count": null,
   "id": "9eb8b782",
   "metadata": {},
   "outputs": [],
   "source": [
    "events = src.nostra_alpha.get_events()"
   ]
  },
  {
   "cell_type": "markdown",
   "id": "050eb37d",
   "metadata": {},
   "source": [
    "## Process events"
   ]
  },
  {
   "cell_type": "code",
   "execution_count": null,
   "id": "afc0ec36",
   "metadata": {},
   "outputs": [],
   "source": [
    "# Iterate over ordered events to obtain the final state of each user.\n",
    "state = src.nostra_alpha.NostraAlphaState(\n",
    "    verbose_user='0x5fe47a2abea8664fbbdd3c0ec52cdf027019eb5162ae015cdaecad4108cab34',\n",
    ")\n",
    "for _, event in events.iterrows():\n",
    "    state.process_event(event=event)"
   ]
  },
  {
   "cell_type": "markdown",
   "id": "d1c00ee1",
   "metadata": {},
   "source": [
    "## Compute liquidable debt and available supply at various prices"
   ]
  },
  {
   "cell_type": "code",
   "execution_count": null,
   "id": "9c2ff7ad",
   "metadata": {},
   "outputs": [],
   "source": [
    "prices = src.swap_amm.Prices()\n",
    "swap_amms = src.swap_amm.SwapAmm()\n",
    "await swap_amms.init()\n",
    "main_chart_data = src.main_chart.get_main_chart_data(\n",
    "    state=state,\n",
    "    prices=prices.prices,\n",
    "    swap_amms=swap_amms,\n",
    "    collateral_token=COLLATERAL_TOKEN,\n",
    "    debt_token=DEBT_TOKEN,\n",
    ")"
   ]
  },
  {
   "cell_type": "markdown",
   "id": "f736a120",
   "metadata": {},
   "source": [
    "## Plot the liquidable debt against the available supply"
   ]
  },
  {
   "cell_type": "code",
   "execution_count": null,
   "id": "6ab67aec",
   "metadata": {},
   "outputs": [],
   "source": [
    "src.main_chart.get_main_chart_figure(\n",
    "    data=main_chart_data.astype(float),\n",
    "    collateral_token=COLLATERAL_TOKEN,\n",
    "    debt_token=DEBT_TOKEN,\n",
    ")"
   ]
  },
  {
   "cell_type": "code",
   "execution_count": null,
   "id": "4d65fce3",
   "metadata": {},
   "outputs": [],
   "source": [
    "# # TODO: check selected user\n",
    "# import src.settings\n",
    "# USER = '0x38f554f6c5d0baa4088890bc00c9af2bfb0e80227e560443e3950805f57f54a'\n",
    "# for token in src.settings.TOKEN_SETTINGS:\n",
    "#     print(token, 'deposit', state.loan_entities[USER].deposit.values[token])\n",
    "#     print(token, 'collateral', state.loan_entities[USER].collateral.values[token])\n",
    "#     print(token, 'debt', state.loan_entities[USER].debt.values[token])"
   ]
  },
  {
   "cell_type": "code",
   "execution_count": null,
   "id": "6044a234",
   "metadata": {},
   "outputs": [],
   "source": [
    "# # TODO: negative deposits?\n",
    "# for attr in ['collateral', 'debt']:\n",
    "#     for token in ['ETH', 'wBTC', 'USDC', 'DAI', 'USDT', 'wstETH']:\n",
    "#         values = [(user, getattr(user_state, attr).values[token]) for user, user_state in state.loan_entities.items()]\n",
    "#         min_value = min([x[1] for x in values])\n",
    "#         min_value_user = [x[0] for x in values if min_value == x[1]][0]\n",
    "#         print(\n",
    "#             min_value_user,\n",
    "#             attr,\n",
    "#             token,\n",
    "#             min_value,\n",
    "#             round(prices.to_dollars(min_value, token), 2),\n",
    "#         )"
   ]
  },
  {
   "cell_type": "code",
   "execution_count": null,
   "id": "3161f462",
   "metadata": {},
   "outputs": [],
   "source": [
    "# # TODO: check suspicious health factors\n",
    "# for loan_entity_id, loan_entity in state.loan_entities.items():\n",
    "#     health_factor = loan_entity.compute_health_factor(prices=prices.prices)\n",
    "#     if 0 < health_factor < 0.7:\n",
    "#         print(loan_entity_id, health_factor)"
   ]
  }
 ],
 "metadata": {
  "kernelspec": {
   "display_name": "Python 3 (ipykernel)",
   "language": "python",
   "name": "python3"
  },
  "language_info": {
   "codemirror_mode": {
    "name": "ipython",
    "version": 3
   },
   "file_extension": ".py",
   "mimetype": "text/x-python",
   "name": "python",
   "nbconvert_exporter": "python",
   "pygments_lexer": "ipython3",
   "version": "3.9.2"
  }
 },
 "nbformat": 4,
 "nbformat_minor": 5
}
